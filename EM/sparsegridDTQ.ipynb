{
 "cells": [
  {
   "cell_type": "code",
   "execution_count": 371,
   "metadata": {
    "collapsed": false
   },
   "outputs": [],
   "source": [
    "import sys\n",
    "sys.path.append(\"/usr/local/TSG/python\")\n",
    "import TasmanianSG\n",
    "import numpy as np"
   ]
  },
  {
   "cell_type": "code",
   "execution_count": 395,
   "metadata": {
    "collapsed": false
   },
   "outputs": [],
   "source": [
    "grid = TasmanianSG.TasmanianSparseGrid()\n",
    "iDim = 2\n",
    "iLevel = 10"
   ]
  },
  {
   "cell_type": "code",
   "execution_count": 396,
   "metadata": {
    "collapsed": false
   },
   "outputs": [
    {
     "name": "stdout",
     "output_type": "stream",
     "text": [
      "257\n"
     ]
    }
   ],
   "source": [
    "grid.makeGlobalGrid(iDim,0,iLevel,\"level\",\"chebyshev\",[])\n",
    "aPoints = grid.getPoints()\n",
    "aWeights = grid.getQuadratureWeights()\n",
    "reordering = np.argsort(aPoints[:,0])\n",
    "aPoints = aPoints[reordering]\n",
    "aWeights = aWeights[reordering]\n",
    "print(len(aPoints))"
   ]
  },
  {
   "cell_type": "code",
   "execution_count": 394,
   "metadata": {
    "collapsed": false
   },
   "outputs": [
    {
     "data": {
      "text/plain": [
       "array([ 0.])"
      ]
     },
     "execution_count": 394,
     "metadata": {},
     "output_type": "execute_result"
    }
   ],
   "source": [
    "np.dot(aWeights,np.power(aPoints,8)) - 2/9"
   ]
  },
  {
   "cell_type": "code",
   "execution_count": 318,
   "metadata": {
    "collapsed": false
   },
   "outputs": [],
   "source": [
    "theta = 1.0\n",
    "mu = 0.5\n",
    "sigma = 0.5\n",
    "def f(x):\n",
    "    return theta*(mu-x)\n",
    "\n",
    "def g(x):\n",
    "    if np.isscalar(x):\n",
    "        return sigma\n",
    "    else:\n",
    "        return sigma*np.ones(x.shape)"
   ]
  },
  {
   "cell_type": "code",
   "execution_count": 319,
   "metadata": {
    "collapsed": false
   },
   "outputs": [],
   "source": [
    "ic = 0.1\n",
    "h = 0.25\n",
    "g2ic = np.square(g(ic))\n",
    "\n",
    "# setting things up to integrate from -scaling to +scaling\n",
    "scaling = 3.0\n",
    "xgrid = scaling*aPoints\n",
    "xweights = scaling*aWeights\n",
    "\n",
    "# define initial condition function\n",
    "def p(x):\n",
    "    p = np.exp(-np.square(x - ic - f(ic)*h)/(2.0*g2ic*h))/np.sqrt(2.0*np.pi*g2ic*h)\n",
    "    return(p)"
   ]
  },
  {
   "cell_type": "code",
   "execution_count": 320,
   "metadata": {
    "collapsed": false
   },
   "outputs": [
    {
     "name": "stdout",
     "output_type": "stream",
     "text": [
      "[ 1.]\n"
     ]
    }
   ],
   "source": [
    "# check normalization of initial condition\n",
    "print(np.dot(xweights,p(xgrid)))"
   ]
  },
  {
   "cell_type": "code",
   "execution_count": 321,
   "metadata": {
    "collapsed": true
   },
   "outputs": [],
   "source": [
    "p2 = np.zeros(len(aPoints))"
   ]
  },
  {
   "cell_type": "code",
   "execution_count": 322,
   "metadata": {
    "collapsed": true
   },
   "outputs": [],
   "source": [
    "for j in np.arange(len(aPoints)):\n",
    "    x = xgrid[j]\n",
    "    numer = np.square(xgrid + f(x + xgrid)*h)\n",
    "    denom = 2.0*np.square(g(x + xgrid))*h\n",
    "    part1 = np.exp(-numer/denom)/np.sqrt(np.pi*denom)\n",
    "    part2 = p(x + xgrid)\n",
    "    p2[j] = np.dot(xweights,part1*part2)"
   ]
  },
  {
   "cell_type": "code",
   "execution_count": 323,
   "metadata": {
    "collapsed": false
   },
   "outputs": [
    {
     "name": "stdout",
     "output_type": "stream",
     "text": [
      "1.0\n"
     ]
    }
   ],
   "source": [
    "print(np.dot(xweights,p2))"
   ]
  },
  {
   "cell_type": "code",
   "execution_count": 324,
   "metadata": {
    "collapsed": false
   },
   "outputs": [],
   "source": [
    "def phi(x):\n",
    "    return np.exp(-np.square(x)/2.0)/np.sqrt(2.0*np.pi)"
   ]
  },
  {
   "cell_type": "code",
   "execution_count": 325,
   "metadata": {
    "collapsed": false
   },
   "outputs": [
    {
     "name": "stdout",
     "output_type": "stream",
     "text": [
      "0.06\n",
      "\n"
     ]
    }
   ],
   "source": [
    "amat = np.zeros((len(xweights),len(xweights)))\n",
    "#endpt = scaling\n",
    "#collocgrid = np.linspace(-endpt,endpt,len(aWeights))\n",
    "#spacing = collocgrid[1]-collocgrid[0]\n",
    "collocgrid = xgrid\n",
    "spacing = np.mean(xgrid[1:len(xweights)] - xgrid[0:(len(xweights)-1)])\n",
    "print(str(spacing) + \"\\n\")\n",
    "for j in np.arange(len(aPoints)):\n",
    "    amat[:,j] = (phi((xgrid - collocgrid[j])/spacing)/spacing).flatten()\n",
    "    nor = np.dot(amat[:,j],xweights)\n"
   ]
  },
  {
   "cell_type": "code",
   "execution_count": 366,
   "metadata": {
    "collapsed": false
   },
   "outputs": [
    {
     "name": "stdout",
     "output_type": "stream",
     "text": [
      "2.18879676003e+15\n"
     ]
    }
   ],
   "source": [
    "# display condition number\n",
    "print(np.linalg.cond(amat,p=2))\n",
    "\n",
    "# store psuedoinverse\n",
    "amatinv = np.linalg.pinv(amat,rcond=1.0e-8)\n",
    "\n",
    "# coefficients corresponding to p2\n",
    "c2 = np.matmul(amatinv,p2)"
   ]
  },
  {
   "cell_type": "code",
   "execution_count": 367,
   "metadata": {
    "collapsed": false
   },
   "outputs": [],
   "source": [
    "b = np.zeros(len(aPoints))\n",
    "for l in np.arange(len(aPoints)):\n",
    "    for k in np.arange(len(aPoints)):\n",
    "        dg2h = 2.0*np.square(g(xgrid + xgrid[l]))*h\n",
    "        t1 = np.power(np.pi*dg2h,-0.5)\n",
    "        numer = np.square(xgrid[l] + f(xgrid + xgrid[l])*h)\n",
    "        t2 = np.exp(-numer/dg2h)\n",
    "        temp = xweights[l]*t1*t2*c2[k]*phi((xgrid + xgrid[l] - xgrid[k])/spacing)/spacing\n",
    "        b += temp.flatten()\n",
    "        \n",
    "c3 = np.matmul(amatinv,b)"
   ]
  },
  {
   "cell_type": "code",
   "execution_count": 368,
   "metadata": {
    "collapsed": false
   },
   "outputs": [
    {
     "name": "stdout",
     "output_type": "stream",
     "text": [
      "0.999976373392\n"
     ]
    }
   ],
   "source": [
    "print(np.dot(xweights,b))"
   ]
  },
  {
   "cell_type": "code",
   "execution_count": 369,
   "metadata": {
    "collapsed": false
   },
   "outputs": [
    {
     "data": {
      "text/plain": [
       "0.99940994000826244"
      ]
     },
     "execution_count": 369,
     "metadata": {},
     "output_type": "execute_result"
    }
   ],
   "source": [
    "np.sum(c3)"
   ]
  },
  {
   "cell_type": "code",
   "execution_count": 370,
   "metadata": {
    "collapsed": false
   },
   "outputs": [
    {
     "data": {
      "text/plain": [
       "0.99940958268484437"
      ]
     },
     "execution_count": 370,
     "metadata": {},
     "output_type": "execute_result"
    }
   ],
   "source": [
    "np.sum(c2)"
   ]
  },
  {
   "cell_type": "code",
   "execution_count": null,
   "metadata": {
    "collapsed": true
   },
   "outputs": [],
   "source": []
  }
 ],
 "metadata": {
  "anaconda-cloud": {},
  "kernelspec": {
   "display_name": "Python [conda root]",
   "language": "python",
   "name": "conda-root-py"
  },
  "language_info": {
   "codemirror_mode": {
    "name": "ipython",
    "version": 3
   },
   "file_extension": ".py",
   "mimetype": "text/x-python",
   "name": "python",
   "nbconvert_exporter": "python",
   "pygments_lexer": "ipython3",
   "version": "3.5.2"
  }
 },
 "nbformat": 4,
 "nbformat_minor": 1
}
