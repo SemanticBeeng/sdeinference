{
 "cells": [
  {
   "cell_type": "code",
   "execution_count": 180,
   "metadata": {
    "collapsed": false
   },
   "outputs": [],
   "source": [
    "import tensorflow as tf\n",
    "# sess = tf.Session()\n",
    "# sess.run(tf.global_variables_initializer())"
   ]
  },
  {
   "cell_type": "code",
   "execution_count": 186,
   "metadata": {
    "collapsed": false
   },
   "outputs": [],
   "source": [
    "class gl:\n",
    "    k = tf.constant(0.5)\n",
    "    M = tf.constant(10)\n",
    "    deltat = tf.constant(0.1)\n",
    "    numsteps = tf.constant(10)\n",
    "    h = tf.constant(0.5)\n",
    "    grid = tf.multiply(k,tf.cast(tf.range(tf.negative(M), tf.add(M, 1), delta=1),tf.float32))\n",
    "    gridx, gridy = tf.meshgrid(grid, grid, indexing='ij')\n",
    "    gridsize = tf.add(tf.multiply(M, 2), 1)\n",
    "    gridsize2 = tf.pow(gridsize, 2)"
   ]
  },
  {
   "cell_type": "code",
   "execution_count": 189,
   "metadata": {
    "collapsed": false,
    "scrolled": false
   },
   "outputs": [],
   "source": [
    "# x = tf.placeholder(tf.float32)\n",
    "# y = tf.placeholder(tf.float32)\n",
    "# bias = tf.Variable(1.0)\n",
    "# y_pred = tf.add(tf.pow(x,2),bias)     # x -> x^2 + bias\n",
    "# loss = tf.pow(tf.subtract(y,y_pred),2)     # l2 loss?\n",
    "\n",
    "# init = tf.global_variables_initializer()\n",
    "# with tf.Session() as sess:\n",
    "#     sess.run(init)\n",
    "#     print(bias.eval())\n",
    "#     print(sess.run(loss, feed_dict={x: 3.0, y: 9.0}))\n",
    "#     print(sess.run(y_pred, {x: 3.0}))\n",
    "#     print(sess.run(bias))"
   ]
  },
  {
   "cell_type": "code",
   "execution_count": 206,
   "metadata": {
    "collapsed": false
   },
   "outputs": [
    {
     "name": "stdout",
     "output_type": "stream",
     "text": [
      "0.5\n",
      "10\n",
      "[-5.  -4.5 -4.  -3.5 -3.  -2.5 -2.  -1.5 -1.  -0.5  0.   0.5  1.   1.5  2.\n",
      "  2.5  3.   3.5  4.   4.5  5. ]\n",
      "21\n",
      "441\n",
      "[ 7.   6.5  6.   5.5  5.   4.5  4.   3.5  3.   2.5  2.   1.5  1.   0.5  0.\n",
      " -0.5 -1.  -1.5 -2.  -2.5 -3. ]\n",
      "[ 3.  3.  3.  3.  3.  3.  3.  3.  3.  3.  3.  3.  3.  3.  3.  3.  3.  3.\n",
      "  3.  3.  3.]\n"
     ]
    }
   ],
   "source": [
    "class func:    \n",
    "    x = tf.placeholder(tf.float32)\n",
    "    theta = tf.placeholder(tf.float32, shape = 3)\n",
    "    f = tf.multiply(theta[0], tf.subtract(theta[1], x))\n",
    "    g = tf.multiply(tf.ones(tf.shape(x)), theta[2])"
   ]
  },
  {
   "cell_type": "code",
   "execution_count": 214,
   "metadata": {
    "collapsed": true
   },
   "outputs": [],
   "source": [
    "def integrandmat(theta, arr):\n",
    "    fval = sess.run(func.f, feed_dict = {theta, arr})\n",
    "    gval = sess.run(tf.abs(func.g, fee_dict = {theta, arr}))\n",
    "    print(fval)\n",
    "    mu = tf.add(gridy, tf.multiply(fval, gl.h))\n",
    "    sd = tf.multiply(gval, tf.sqrt(gl.h))\n",
    "    norm = tf.random_normal(gl.size, mean=mu, stddev=sd)\n",
    "    return norm"
   ]
  },
  {
   "cell_type": "code",
   "execution_count": 218,
   "metadata": {
    "collapsed": false
   },
   "outputs": [
    {
     "name": "stdout",
     "output_type": "stream",
     "text": [
      "0.5\n",
      "10\n",
      "[-5.  -4.5 -4.  -3.5 -3.  -2.5 -2.  -1.5 -1.  -0.5  0.   0.5  1.   1.5  2.\n",
      "  2.5  3.   3.5  4.   4.5  5. ]\n",
      "21\n",
      "441\n",
      "[ 7.   6.5  6.   5.5  5.   4.5  4.   3.5  3.   2.5  2.   1.5  1.   0.5  0.\n",
      " -0.5 -1.  -1.5 -2.  -2.5 -3. ]\n",
      "[ 3.  3.  3.  3.  3.  3.  3.  3.  3.  3.  3.  3.  3.  3.  3.  3.  3.  3.\n",
      "  3.  3.  3.]\n"
     ]
    }
   ],
   "source": [
    "init = tf.global_variables_initializer()\n",
    "with tf.Session() as sess:\n",
    "    sess.run(init)\n",
    "    print(gl.k.eval())\n",
    "    print(gl.M.eval())\n",
    "    print(gl.grid.eval())\n",
    "    print(gl.gridsize.eval())\n",
    "    print(gl.gridsize2.eval())\n",
    "\n",
    "    thval = tf.constant([1,2,3])\n",
    "    print(sess.run(func.f, feed_dict={func.x: gl.grid.eval(), func.theta: [1,2,3]}))\n",
    "    print(sess.run(func.g, feed_dict={func.x: gl.grid.eval(), func.theta: [1,2,3]}))\n",
    "#     print(sess.run(tf.gradients(func.f, ), feed_dict={func.x: gl.grid.eval(), func.theta: [1,2,3]}))\n",
    "#     integrandmat(thval, gl.grid)"
   ]
  },
  {
   "cell_type": "code",
   "execution_count": null,
   "metadata": {
    "collapsed": true
   },
   "outputs": [],
   "source": []
  }
 ],
 "metadata": {
  "kernelspec": {
   "display_name": "Python 3",
   "language": "python",
   "name": "python3"
  },
  "language_info": {
   "codemirror_mode": {
    "name": "ipython",
    "version": 3
   },
   "file_extension": ".py",
   "mimetype": "text/x-python",
   "name": "python",
   "nbconvert_exporter": "python",
   "pygments_lexer": "ipython3",
   "version": "3.6.0"
  }
 },
 "nbformat": 4,
 "nbformat_minor": 2
}
