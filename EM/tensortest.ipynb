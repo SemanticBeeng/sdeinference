{
 "cells": [
  {
   "cell_type": "code",
   "execution_count": 88,
   "metadata": {
    "collapsed": true
   },
   "outputs": [],
   "source": [
    "import numpy as np\n",
    "import scipy.stats"
   ]
  },
  {
   "cell_type": "code",
   "execution_count": 2,
   "metadata": {
    "collapsed": true
   },
   "outputs": [],
   "source": [
    "import tensorflow as tf"
   ]
  },
  {
   "cell_type": "code",
   "execution_count": 4,
   "metadata": {
    "collapsed": true
   },
   "outputs": [],
   "source": [
    "M = 5\n",
    "N = 2\n",
    "T = 3\n",
    "h = 2\n",
    "s = 3"
   ]
  },
  {
   "cell_type": "code",
   "execution_count": 7,
   "metadata": {
    "collapsed": true
   },
   "outputs": [],
   "source": [
    "A_np = np.random.randn(M, h)\n",
    "C_np = np.random.randn(s, T)\n",
    "B_np = np.random.randn(h, N, s)"
   ]
  },
  {
   "cell_type": "code",
   "execution_count": 11,
   "metadata": {
    "collapsed": false
   },
   "outputs": [
    {
     "name": "stdout",
     "output_type": "stream",
     "text": [
      "[[-0.71722232 -1.56709009]\n",
      " [ 0.41213077  1.11844308]\n",
      " [-0.388832    1.03975487]\n",
      " [ 0.3505914   1.10913787]\n",
      " [-0.99167438  0.08882283]]\n",
      "[[[-2.77781815 -0.73546259 -0.63187946]\n",
      "  [ 0.41161213  0.68682337 -0.59435527]]\n",
      "\n",
      " [[-0.83167171 -0.06335832 -1.07703616]\n",
      "  [-1.11668467 -0.66917665  0.69701998]]]\n"
     ]
    },
    {
     "data": {
      "text/plain": [
       "array([[[ 3.29561768,  0.62677838,  2.14101074],\n",
       "        [ 1.45472807,  0.55605504, -0.66600824]],\n",
       "\n",
       "       [[-2.0750018 , -0.37396944, -1.4650206 ],\n",
       "        [-1.07931021, -0.46537495,  0.53462508]],\n",
       "\n",
       "       [[ 0.21536987,  0.22009427, -0.87415863],\n",
       "        [-1.32112628, -0.96283857,  0.95583426]],\n",
       "\n",
       "       [[-1.89631774, -0.32811997, -1.41611309],\n",
       "        [-1.09424959, -0.5014148 ,  0.56471542]],\n",
       "\n",
       "       [[ 2.68081966,  0.72371174,  0.53095327],\n",
       "        [-0.50737229, -0.7405433 ,  0.65131818]]])"
      ]
     },
     "execution_count": 11,
     "metadata": {},
     "output_type": "execute_result"
    }
   ],
   "source": [
    "print(A_np)\n",
    "print(B_np)\n",
    "np.tensordot(A_np, B_np, axes=1)"
   ]
  },
  {
   "cell_type": "code",
   "execution_count": 16,
   "metadata": {
    "collapsed": false
   },
   "outputs": [],
   "source": [
    "A_tf = tf.Variable(A_np)\n",
    "C_tf = tf.Variable(C_np)\n",
    "B_tf = tf.Variable(B_np)"
   ]
  },
  {
   "cell_type": "code",
   "execution_count": 26,
   "metadata": {
    "collapsed": false
   },
   "outputs": [],
   "source": [
    "AB_tf = tf.tensordot(A_tf, B_tf,axes = [[1], [0]])\n",
    "sess = tf.Session()\n",
    "sess.run(tf.global_variables_initializer())\n",
    "AB = sess.run(AB_tf)"
   ]
  },
  {
   "cell_type": "code",
   "execution_count": 27,
   "metadata": {
    "collapsed": false
   },
   "outputs": [
    {
     "name": "stdout",
     "output_type": "stream",
     "text": [
      "[[[ 3.29561768  0.62677838  2.14101074]\n",
      "  [ 1.45472807  0.55605504 -0.66600824]]\n",
      "\n",
      " [[-2.0750018  -0.37396944 -1.4650206 ]\n",
      "  [-1.07931021 -0.46537495  0.53462508]]\n",
      "\n",
      " [[ 0.21536987  0.22009427 -0.87415863]\n",
      "  [-1.32112628 -0.96283857  0.95583426]]\n",
      "\n",
      " [[-1.89631774 -0.32811997 -1.41611309]\n",
      "  [-1.09424959 -0.5014148   0.56471542]]\n",
      "\n",
      " [[ 2.68081966  0.72371174  0.53095327]\n",
      "  [-0.50737229 -0.7405433   0.65131818]]]\n"
     ]
    }
   ],
   "source": [
    "print(AB)"
   ]
  },
  {
   "cell_type": "code",
   "execution_count": 30,
   "metadata": {
    "collapsed": false
   },
   "outputs": [],
   "source": [
    "AB_tf_C_tf = tf.tensordot(AB_tf, C_tf, axes=[[2], [1]])\n",
    "ABC = sess.run(AB_tf_C_tf)"
   ]
  },
  {
   "cell_type": "code",
   "execution_count": 31,
   "metadata": {
    "collapsed": false,
    "scrolled": true
   },
   "outputs": [
    {
     "name": "stdout",
     "output_type": "stream",
     "text": [
      "[[[ 0.75527036 -5.02275331  0.28318609]\n",
      "  [-0.94931532  1.75120339 -0.10835656]]\n",
      "\n",
      " [[-0.56839122  3.45147461 -0.19421431]\n",
      "  [ 0.7016425  -1.50424785 -0.0387348 ]]\n",
      "\n",
      " [[-0.75552538  2.17709947 -0.11943444]\n",
      "  [ 0.83885192 -3.36712311 -0.93422276]]\n",
      "\n",
      " [[-0.58075925  3.34510851 -0.18799793]\n",
      "  [ 0.70984948 -1.63992902 -0.10602635]]\n",
      "\n",
      " [[-0.34653352 -1.09476287  0.06567728]\n",
      "  [ 0.30330604 -2.73194579 -1.19500948]]]\n"
     ]
    }
   ],
   "source": [
    "print(ABC)"
   ]
  },
  {
   "cell_type": "code",
   "execution_count": 32,
   "metadata": {
    "collapsed": true
   },
   "outputs": [],
   "source": [
    "def f(theta, x, returngrad=False):\n",
    "    fval = (theta[0])*(theta[1] - x)\n",
    "    if returngrad==False:\n",
    "        return fval\n",
    "    else:\n",
    "        if (np.isscalar(x)):\n",
    "            xshape = ()\n",
    "        else:\n",
    "            xshape = x.shape\n",
    "        dfdtheta = np.zeros(theta.shape + xshape)\n",
    "        # want this to broadcast correctly regardless of whether x is a matrix or vector\n",
    "        dfdtheta[0,...] = fval/theta[0]\n",
    "        dfdtheta[1,...] = theta[0]\n",
    "        dfdtheta[2,...] = 0\n",
    "        return fval, dfdtheta\n",
    "    \n",
    "def g(theta, x, returngrad=False):\n",
    "    if (np.isscalar(x)):\n",
    "        xshape = ()\n",
    "        gval = theta[2]\n",
    "    else:\n",
    "        xshape = x.shape\n",
    "        gval = np.ones(xshape)*theta[2]\n",
    "        \n",
    "    if returngrad==False:\n",
    "        return gval\n",
    "    else:\n",
    "        dgdtheta = np.zeros(theta.shape + xshape)\n",
    "        # want this to broadcast correctly regardless of whether x is a matrix or vector\n",
    "        dgdtheta[0,...] = 0\n",
    "        dgdtheta[1,...] = 0\n",
    "        dgdtheta[2,...] = 1\n",
    "        return gval, dgdtheta"
   ]
  },
  {
   "cell_type": "code",
   "execution_count": 34,
   "metadata": {
    "collapsed": false
   },
   "outputs": [],
   "source": [
    "theta = 0.5\n",
    "omtheta = 1.-theta\n",
    "alpha = np.zeros(2)\n",
    "alpha[0] = 0.5/(theta*omtheta)\n",
    "alpha[1] = alpha[0]*(omtheta*omtheta + theta*theta)"
   ]
  },
  {
   "cell_type": "code",
   "execution_count": 91,
   "metadata": {
    "collapsed": false
   },
   "outputs": [],
   "source": [
    "M = 10\n",
    "k = 0.5\n",
    "grid = np.arange(-M,(M+1))*k\n",
    "yim1 = grid.copy()\n",
    "h = 0.5"
   ]
  },
  {
   "cell_type": "code",
   "execution_count": 57,
   "metadata": {
    "collapsed": false
   },
   "outputs": [],
   "source": [
    "# play with sparse tensors a bit\n",
    "N = 2*M+1\n",
    "ind0 = np.arange(0,N)\n",
    "ind = np.repeat(np.array([ind0]).T,3,axis=1)\n",
    "val = np.repeat(1,N)\n",
    "ds = [N,N,N]"
   ]
  },
  {
   "cell_type": "code",
   "execution_count": 64,
   "metadata": {
    "collapsed": false
   },
   "outputs": [],
   "source": [
    "test = tf.SparseTensor(indices=ind,values=val,dense_shape=ds)"
   ]
  },
  {
   "cell_type": "code",
   "execution_count": 65,
   "metadata": {
    "collapsed": false
   },
   "outputs": [],
   "source": [
    "testsparse = sess.run(testd)"
   ]
  },
  {
   "cell_type": "code",
   "execution_count": 100,
   "metadata": {
    "collapsed": false
   },
   "outputs": [],
   "source": [
    "col1 = np.ones((N,1))\n",
    "colr = np.array([np.arange(0,N)]).T"
   ]
  },
  {
   "cell_type": "code",
   "execution_count": 107,
   "metadata": {
    "collapsed": false
   },
   "outputs": [],
   "source": [
    "# create the sparse A tensor\n",
    "ds = [N,N,N]\n",
    "val = []\n",
    "ind = np.zeros((0,3))\n",
    "tol = N\n",
    "th = np.array([1.,0.5,0.75])\n",
    "col1 = np.ones((N,1))\n",
    "colr = np.array([np.arange(0,N)]).T\n",
    "for i in range(N):\n",
    "    for j in range(N):\n",
    "        if (abs(i-j) > tol):\n",
    "            continue\n",
    "            \n",
    "        yi = grid[i]\n",
    "        ystar = grid[j]\n",
    "        mv = ystar + (alpha[0]*f(th,ystar) - alpha[1]*f(th,yim1))*omtheta*h\n",
    "        g2star = np.square(g(th,ystar))\n",
    "        g2m1 = np.square(g(th,yim1))\n",
    "        vv = np.maximum(0, alpha[0]*g2star - alpha[1]*g2m1)*omtheta*h\n",
    "        thesevals = scipy.stats.norm.pdf(x=yi, loc=mv, scale=np.sqrt(vv))\n",
    "        indblock = np.hstack([i*col1,j*col1,colr])\n",
    "        ind = np.vstack([ind, indblock])\n",
    "        val.append(thesevals.tolist())"
   ]
  },
  {
   "cell_type": "code",
   "execution_count": 115,
   "metadata": {
    "collapsed": false
   },
   "outputs": [],
   "source": [
    "val = np.array(val).flatten()"
   ]
  },
  {
   "cell_type": "code",
   "execution_count": 116,
   "metadata": {
    "collapsed": false
   },
   "outputs": [],
   "source": [
    "test = tf.SparseTensor(indices=ind,values=val,dense_shape=ds)"
   ]
  },
  {
   "cell_type": "code",
   "execution_count": 117,
   "metadata": {
    "collapsed": true
   },
   "outputs": [],
   "source": [
    "testsparse = sess.run(test)"
   ]
  },
  {
   "cell_type": "code",
   "execution_count": null,
   "metadata": {
    "collapsed": true
   },
   "outputs": [],
   "source": []
  }
 ],
 "metadata": {
  "kernelspec": {
   "display_name": "Python [Root]",
   "language": "python",
   "name": "Python [Root]"
  },
  "language_info": {
   "codemirror_mode": {
    "name": "ipython",
    "version": 3
   },
   "file_extension": ".py",
   "mimetype": "text/x-python",
   "name": "python",
   "nbconvert_exporter": "python",
   "pygments_lexer": "ipython3",
   "version": "3.5.2"
  }
 },
 "nbformat": 4,
 "nbformat_minor": 0
}
