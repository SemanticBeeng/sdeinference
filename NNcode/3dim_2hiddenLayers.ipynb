{
 "cells": [
  {
   "cell_type": "code",
   "execution_count": 1,
   "metadata": {
    "collapsed": true
   },
   "outputs": [],
   "source": [
    "from __future__ import division, print_function, unicode_literals\n",
    "\n",
    "import tensorflow as tf\n",
    "import numpy as np\n",
    "import math, random\n",
    "import matplotlib.pyplot as plt\n",
    "%matplotlib inline\n",
    "\n",
    "def reset_graph(seed = 42):\n",
    "    tf.reset_default_graph()\n",
    "    tf.set_random_seed(seed)\n",
    "    np.random.seed(seed)"
   ]
  },
  {
   "cell_type": "code",
   "execution_count": 2,
   "metadata": {
    "collapsed": true
   },
   "outputs": [],
   "source": [
    "reset_graph()\n",
    "np.random.seed(42)\n",
    "n_hidden1 = 100\n",
    "n_hidden2 = 2\n",
    "n_inputs = 1000\n",
    "n_outputs = 1\n",
    "train_split = .8\n",
    "batch_size = 10\n",
    "n_epochs = 5001"
   ]
  },
  {
   "cell_type": "code",
   "execution_count": 3,
   "metadata": {
    "collapsed": true
   },
   "outputs": [],
   "source": [
    "def duffing_drift(x):\n",
    "    alpha = -1.0\n",
    "    beta = 1.0\n",
    "    delta = 0.3\n",
    "    gamma = 0.2\n",
    "    omega = 1.0\n",
    "    out = np.zeros(x.shape)\n",
    "\n",
    "    # f_1(x_1,x_2,x_3) = x_2\n",
    "    out[0] = x[1]\n",
    "\n",
    "    # f_2(x_1,x_2,x_3) = -delta*x_2 - alpha*x_1 - beta*x_1^3 + gamma*cos(omega*x_3)\n",
    "    out[1] = -delta*x[1] - alpha*x[0] - beta*np.power(x[0],3) + gamma*np.cos(omega*x[2])\n",
    "\n",
    "    # f_3(x_1,x_2,x_3) = 1\n",
    "    out[2] = 1.0\n",
    "\n",
    "    return out"
   ]
  },
  {
   "cell_type": "code",
   "execution_count": 4,
   "metadata": {
    "collapsed": true
   },
   "outputs": [],
   "source": [
    "# true diffusion matrix\n",
    "def trueg():\n",
    "    out = np.zeros((3,3))\n",
    "    out[0,0] = 0.4\n",
    "    out[0,1] = 0.0 # 0.125\n",
    "    out[1,0] = 0.0 # 0.125\n",
    "    out[1,1] = 0.25\n",
    "    out[2,2] = 0.0\n",
    "    return out"
   ]
  },
  {
   "cell_type": "code",
   "execution_count": 5,
   "metadata": {
    "collapsed": true
   },
   "outputs": [],
   "source": [
    "def function_to_learn(x):\n",
    "    return duffing_drift(x) # + trueg()"
   ]
  },
  {
   "cell_type": "code",
   "execution_count": 6,
   "metadata": {
    "collapsed": true
   },
   "outputs": [],
   "source": [
    "# euler-maruyama simulator\n",
    "# ft: final time\n",
    "# ns: number of steps, starting at t=0\n",
    "# ic: initial condition, must be a 3x1 matrix to broadcast to 3xnt\n",
    "# nt: number of trajectories desired\n",
    "def emsim(ft, ns, ic, nt):\n",
    "    h = ft/ns\n",
    "    h12 = np.sqrt(h)\n",
    "    y = np.zeros((ns+1, 3))\n",
    "    y[0] = ic\n",
    "    for i in range(ns):\n",
    "        y[i+1] = y[i] + duffing_drift(y[i])*h\n",
    "    return y"
   ]
  },
  {
   "cell_type": "code",
   "execution_count": 7,
   "metadata": {},
   "outputs": [],
   "source": [
    "# multiple time series, one realization per time series\n",
    "ic = np.tile(np.array([[1.0, 0.0, 0.0]]), 1)\n",
    "ft = 20\n",
    "ns = ft*int(1e2)\n",
    "nt = 1\n",
    "all_x = np.float32(np.random.uniform(0, ft, (ns+1, 3)))\n",
    "all_y = emsim(ft, ns, ic, nt)"
   ]
  },
  {
   "cell_type": "code",
   "execution_count": 8,
   "metadata": {},
   "outputs": [],
   "source": [
    "all_x = np.float32(np.random.uniform(-1, 1, (3, n_inputs))).T\n",
    "np.random.shuffle(all_x)\n",
    "train_size = int(n_inputs * train_split)\n",
    "trainx = all_x[:train_size, :]\n",
    "validx = all_x[train_size:, :]\n",
    "trainy = function_to_learn(trainx)\n",
    "validy = function_to_learn(validx)"
   ]
  },
  {
   "cell_type": "code",
   "execution_count": 9,
   "metadata": {
    "scrolled": false
   },
   "outputs": [
    {
     "data": {
      "text/plain": [
       "array([[-0.26794347,  0.16045706,  0.72246444],\n",
       "       [-0.651003  ,  0.08775584,  0.1808522 ],\n",
       "       [ 0.0061452 ,  0.67841589,  0.83419698],\n",
       "       ..., \n",
       "       [-0.71112704,  0.65928763, -0.22375709],\n",
       "       [-0.84894586,  0.86166573,  0.50733227],\n",
       "       [ 0.99892133,  0.75892538,  0.30988222]], dtype=float32)"
      ]
     },
     "execution_count": 9,
     "metadata": {},
     "output_type": "execute_result"
    }
   ],
   "source": [
    "all_x"
   ]
  },
  {
   "cell_type": "code",
   "execution_count": 10,
   "metadata": {},
   "outputs": [
    {
     "data": {
      "text/plain": [
       "<matplotlib.legend.Legend at 0x7f3661137cc0>"
      ]
     },
     "execution_count": 10,
     "metadata": {},
     "output_type": "execute_result"
    },
    {
     "data": {
      "image/png": "[encoded data removed]",
      "text/plain": [
       "<matplotlib.figure.Figure at 0x7f3668fbe2b0>"
      ]
     },
     "metadata": {},
     "output_type": "display_data"
    }
   ],
   "source": [
    "plt.figure(1) \n",
    "plt.scatter(trainx[:, 0], trainy[:, 0], c = 'green', label = 'train') \n",
    "plt.scatter(validx[:, 0], validy[:, 0], c = 'red', label = 'validation') \n",
    "plt.legend()"
   ]
  },
  {
   "cell_type": "code",
   "execution_count": 11,
   "metadata": {
    "collapsed": true
   },
   "outputs": [],
   "source": [
    "X = tf.placeholder(tf.float32, shape = (None, 3), name = \"X\")\n",
    "y = tf.placeholder(tf.float32, shape = (None, 3), name = \"y\")"
   ]
  },
  {
   "cell_type": "code",
   "execution_count": 12,
   "metadata": {
    "collapsed": true
   },
   "outputs": [],
   "source": [
    "with tf.name_scope(\"function_approximator\"):\n",
    "    hidden1 = tf.layers.dense(X, n_hidden1, activation = tf.nn.relu, name = \"hidden1\")\n",
    "    hidden2 = tf.layers.dense(hidden1, n_hidden2, activation = tf.nn.relu, name = \"hidden2\")\n",
    "#     hidden3 = tf.layers.dense(hidden2, n_hidden3, activation = tf.nn.relu, name = \"hidden3\")\n",
    "    logits = tf.layers.dense(hidden2, n_outputs, name = \"outputs\")"
   ]
  },
  {
   "cell_type": "code",
   "execution_count": 13,
   "metadata": {
    "collapsed": true
   },
   "outputs": [],
   "source": [
    "# with tf.name_scope(\"function_approximator\"):\n",
    "#     hidden1_1 = tf.layers.dense(X, n_hidden1_1, activation = tf.nn.relu, name = \"hidden1_1\")\n",
    "#     hidden1_2 = tf.layers.dense(X, n_hidden1_2, activation = tf.nn.relu, anem = \"hidden1_2\")\n",
    "#     hidden2_1 = tf.layers.dense(hidden1_1, n_hidden2_1, activation = tf.nn.relu, name = \"hidden2_1\")\n",
    "#     hidden2_2 = tf.layers.dense(hidden1_2, n_hidden2_2, activation = tf.nn.relu, name = \"hidden2_2\")\n",
    "#     logits = tf.layers.dense(hidden1, n_outputs, name = \"outputs\")"
   ]
  },
  {
   "cell_type": "code",
   "execution_count": 14,
   "metadata": {
    "collapsed": true
   },
   "outputs": [],
   "source": [
    "with tf.name_scope(\"loss\"):\n",
    "    loss = tf.nn.l2_loss(logits - y)"
   ]
  },
  {
   "cell_type": "code",
   "execution_count": 15,
   "metadata": {
    "collapsed": true
   },
   "outputs": [],
   "source": [
    "learning_rate = 0.1\n",
    "\n",
    "with tf.name_scope(\"train\"):\n",
    "#     optimizer = tf.train.FtrlOptimizer(learning_rate)\n",
    "    optimizer = tf.train.AdamOptimizer(learning_rate)\n",
    "    training_op = optimizer.minimize(loss)"
   ]
  },
  {
   "cell_type": "code",
   "execution_count": 16,
   "metadata": {
    "collapsed": true
   },
   "outputs": [],
   "source": [
    "init = tf.global_variables_initializer()\n",
    "saver = tf.train.Saver()"
   ]
  },
  {
   "cell_type": "code",
   "execution_count": 17,
   "metadata": {
    "collapsed": true
   },
   "outputs": [],
   "source": [
    "with tf.name_scope(\"eval\"):\n",
    "    mse = tf.nn.l2_loss(logits - validy)"
   ]
  },
  {
   "cell_type": "code",
   "execution_count": 18,
   "metadata": {},
   "outputs": [
    {
     "name": "stdout",
     "output_type": "stream",
     "text": [
      "Epoch: 0 Validation accuracy: 2.19369\n",
      "Epoch: 100 Validation accuracy: 2.17652\n",
      "Epoch: 200 Validation accuracy: 2.17652\n",
      "Epoch: 300 Validation accuracy: 2.17652\n",
      "Epoch: 400 Validation accuracy: 2.17652\n",
      "Epoch: 500 Validation accuracy: 2.17652\n",
      "Epoch: 600 Validation accuracy: 2.17652\n",
      "Epoch: 700 Validation accuracy: 2.17652\n",
      "Epoch: 800 Validation accuracy: 2.17652\n",
      "Epoch: 900 Validation accuracy: 2.17652\n",
      "Epoch: 1000 Validation accuracy: 2.17652\n",
      "Epoch: 1100 Validation accuracy: 2.17652\n",
      "Epoch: 1200 Validation accuracy: 2.17652\n",
      "Epoch: 1300 Validation accuracy: 2.17652\n",
      "Epoch: 1400 Validation accuracy: 2.17652\n",
      "Epoch: 1500 Validation accuracy: 2.17652\n",
      "Epoch: 1600 Validation accuracy: 2.17652\n",
      "Epoch: 1700 Validation accuracy: 2.17652\n",
      "Epoch: 1800 Validation accuracy: 2.17652\n",
      "Epoch: 1900 Validation accuracy: 2.17652\n",
      "Epoch: 2000 Validation accuracy: 2.17652\n",
      "Epoch: 2100 Validation accuracy: 2.17652\n",
      "Epoch: 2200 Validation accuracy: 2.17652\n",
      "Epoch: 2300 Validation accuracy: 2.17652\n",
      "Epoch: 2400 Validation accuracy: 2.17652\n",
      "Epoch: 2500 Validation accuracy: 2.17652\n",
      "Epoch: 2600 Validation accuracy: 2.17652\n",
      "Epoch: 2700 Validation accuracy: 2.17652\n",
      "Epoch: 2800 Validation accuracy: 2.17652\n",
      "Epoch: 2900 Validation accuracy: 2.17652\n",
      "Epoch: 3000 Validation accuracy: 2.17652\n",
      "Epoch: 3100 Validation accuracy: 2.17652\n",
      "Epoch: 3200 Validation accuracy: 2.17652\n",
      "Epoch: 3300 Validation accuracy: 2.17652\n",
      "Epoch: 3400 Validation accuracy: 2.17652\n",
      "Epoch: 3500 Validation accuracy: 2.17652\n",
      "Epoch: 3600 Validation accuracy: 2.17652\n",
      "Epoch: 3700 Validation accuracy: 2.17652\n",
      "Epoch: 3800 Validation accuracy: 2.17652\n",
      "Epoch: 3900 Validation accuracy: 2.17652\n",
      "Epoch: 4000 Validation accuracy: 2.17652\n",
      "Epoch: 4100 Validation accuracy: 2.17652\n",
      "Epoch: 4200 Validation accuracy: 2.17652\n",
      "Epoch: 4300 Validation accuracy: 2.17652\n",
      "Epoch: 4400 Validation accuracy: 2.17652\n",
      "Epoch: 4500 Validation accuracy: 2.17652\n",
      "Epoch: 4600 Validation accuracy: 2.17652\n",
      "Epoch: 4700 Validation accuracy: 2.17652\n",
      "Epoch: 4800 Validation accuracy: 2.17652\n",
      "Epoch: 4900 Validation accuracy: 2.17652\n",
      "Epoch: 5000 Validation accuracy: 2.17652\n"
     ]
    }
   ],
   "source": [
    "with tf.Session() as sess:\n",
    "    init.run()\n",
    "    errors = []\n",
    "    for epoch in range(n_epochs):\n",
    "        for start, end in zip(range(0, len(trainx), batch_size), range(batch_size, len(trainx), batch_size)):\n",
    "            X_batch = trainx[start:end]\n",
    "            y_batch = trainy[start:end]\n",
    "            sess.run(training_op, feed_dict={X: X_batch, y: y_batch})\n",
    "        mse_test = sess.run(mse, feed_dict = {X: validx})\n",
    "        errors.append(mse_test)\n",
    "        if epoch % 100 == 0:\n",
    "            print(\"Epoch:\", epoch, \"Validation accuracy:\", mse_test)\n",
    "\n",
    "    save_path = saver.save(sess, \"./my_model_final.ckpt\")"
   ]
  },
  {
   "cell_type": "code",
   "execution_count": 19,
   "metadata": {},
   "outputs": [
    {
     "data": {
      "image/png": "[encoded data removed]",
      "text/plain": [
       "<matplotlib.figure.Figure at 0x7f3660f144a8>"
      ]
     },
     "metadata": {},
     "output_type": "display_data"
    }
   ],
   "source": [
    "plt.plot(errors)\n",
    "plt.xlabel('#epochs')\n",
    "plt.ylabel('MSE')\n",
    "plt.grid(True)"
   ]
  },
  {
   "cell_type": "code",
   "execution_count": 20,
   "metadata": {},
   "outputs": [
    {
     "name": "stdout",
     "output_type": "stream",
     "text": [
      "INFO:tensorflow:Restoring parameters from ./my_model_final.ckpt\n",
      "[<tf.Variable 'hidden1/kernel:0' shape=(3, 100) dtype=float32_ref>, <tf.Variable 'hidden1/bias:0' shape=(100,) dtype=float32_ref>, <tf.Variable 'hidden2/kernel:0' shape=(100, 2) dtype=float32_ref>, <tf.Variable 'hidden2/bias:0' shape=(2,) dtype=float32_ref>, <tf.Variable 'outputs/kernel:0' shape=(2, 1) dtype=float32_ref>, <tf.Variable 'outputs/bias:0' shape=(1,) dtype=float32_ref>]\n"
     ]
    }
   ],
   "source": [
    "with tf.Session() as sess:\n",
    "    saver.restore(sess, \"./my_model_final.ckpt\")\n",
    "    print(tf.trainable_variables())"
   ]
  },
  {
   "cell_type": "code",
   "execution_count": null,
   "metadata": {
    "collapsed": true
   },
   "outputs": [],
   "source": []
  }
 ],
 "metadata": {
  "kernelspec": {
   "display_name": "Python (tensorflow)",
   "language": "python",
   "name": "tensorflow"
  },
  "language_info": {
   "codemirror_mode": {
    "name": "ipython",
    "version": 3
   },
   "file_extension": ".py",
   "mimetype": "text/x-python",
   "name": "python",
   "nbconvert_exporter": "python",
   "pygments_lexer": "ipython3",
   "version": "3.5.4"
  }
 },
 "nbformat": 4,
 "nbformat_minor": 2
}
